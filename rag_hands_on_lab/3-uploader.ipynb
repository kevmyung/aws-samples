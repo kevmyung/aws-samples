{
 "cells": [
  {
   "cell_type": "markdown",
   "id": "d391f919-b758-4c3f-b4c7-e299b766987c",
   "metadata": {},
   "source": [
    "# 지식 문서 업로드 기능 구현 (약 20분 소요)"
   ]
  },
  {
   "cell_type": "code",
   "execution_count": 20,
   "id": "cdc7aaf3-ea0a-4cc1-8b52-dd337feec1a4",
   "metadata": {},
   "outputs": [],
   "source": [
    "import boto3\n",
    "%store -r opensearch_user_id opensearch_user_password domain_name opensearch_domain_endpoint\n",
    "\n",
    "try:\n",
    "    opensearch_user_id\n",
    "    opensearch_user_password\n",
    "    domain_name\n",
    "    opensearch_domain_endpoint\n",
    "   \n",
    "except NameError:\n",
    "    print(\"++++++++++++++++++++++++++++++++++++++++++++++++++++++++++++++++++++++++++++\")\n",
    "    print(\"[ERROR] Run 00_setup notebook first or Create Your Own OpenSearch Domain\")\n",
    "    print(\"++++++++++++++++++++++++++++++++++++++++++++++++++++++++++++++++++++++++++++\")"
   ]
  },
  {
   "cell_type": "code",
   "execution_count": 2,
   "id": "c27ea155-856f-4a9d-b109-b6218847d1b1",
   "metadata": {},
   "outputs": [],
   "source": [
    "%load_ext autoreload\n",
    "%autoreload 2"
   ]
  },
  {
   "cell_type": "code",
   "execution_count": 18,
   "id": "e1ce998c-5cf9-49cc-8746-da12db01d4bf",
   "metadata": {},
   "outputs": [],
   "source": [
    "import re\n",
    "import json\n",
    "import pdfplumber\n",
    "from datetime import datetime\n",
    "from langchain_core.documents import Document"
   ]
  },
  {
   "cell_type": "markdown",
   "id": "30270927-165f-4315-ae4d-30450f64b34c",
   "metadata": {},
   "source": [
    "### PDF 문서 처리방식 확인"
   ]
  },
  {
   "cell_type": "code",
   "execution_count": 16,
   "id": "6ec4005d-ab1d-4d00-bc67-813880aa8519",
   "metadata": {},
   "outputs": [],
   "source": [
    "pdf_list = ['./data/sample1.pdf']"
   ]
  },
  {
   "cell_type": "code",
   "execution_count": 43,
   "id": "267f1c18-e801-498d-855e-16de4db6f6f4",
   "metadata": {},
   "outputs": [
    {
     "name": "stdout",
     "output_type": "stream",
     "text": [
      "Processing PDF file: ./data/sample1.pdf\n",
      "sample doc:  page_content='해외여행보험 보통약관 제1조(보험계약의 성립) ①보험계약은 보험계약자의 청약과 보험회사의 승낙으로 이루어집니 다.(이하 \"보험계약\"은 \"계약\",\"보험계약자\"는 \"계약자\",\"보험회사\"는 \"회사\"라 합니다) ② 회사는 계약의 청약을 받고 보험료 전액 또는 제1회 보험료(일정기간 단위의 분할보험료) 를 받은 경우에는 청약일(진단계약의 경우에는 진단일)로부터 30일 이내에 승낙 또는 거절의 통지를 하며 통지가 없으면 승낙한 것으로 봅니다. ③ 회사가 청약을 승낙한 때에는 지체없이 보험증권을 계약자에게 교부하여 드리며, 청약을 거절할 경우에는 거절통지와 함께 받은 금액을 계약자에게 돌려드립니다. ④ 이미 성립한 계약을 연장하거나 변경하는 경우에는 회사는 보험증권에 그 사실을 기재하거 나 서면으로 알림으로써 보험증권의 교부에 대신할 수 있습니다. 제2조(약관교부 및 설명의무 등) ① 회사는 계약을 체결할 때 계약자에게 보험약관을 드리고 그 약관의 중요한 내용을 설명하여 드립니다. ② 회사가 제1항에 의해 제공될 약관을 계약자에게 전달하지 아니하거나 약관의 중요한 내용 을 설명하지 아니한 때 또는 계약체결시 계약자가 청약서에 자필서명(날인을 포함합니다)을 하지 아니한 때에는 계약자는 계약일로부터 1월 이내에 계약을 취소할 수 있습니다. ③ 제2항에 따라 계약이 취소된 경우에는 회사는 이미 납입한 보험료를 계약자에게 돌려 드리 며, 보험료를 받은 기간에 대하여 보험개발원이 공시하는 정기예금이율로 계산한 금액을 더 하여 지급합니다. 제3조(보험료) ① 보험료는 다른 약정이 없으면 보험기간이 시작되기 전에 내어야 합니다. ② 다른 약정이 없으면 보험기간이 시작된 후라도 보험료를 받기 전에 생긴 손해는 보상하여 드리지 아니합니다. 제4조(회사의 책임의 시기 및 종기) ① 회사의 책임은 보험기간의 첫날 오후 4시에 시작하여 마지막날 오후 4시에 끝납니다. 그러나, 보험증권에 이와 다른 시각이 기재되어 있을 때에는 그 시각으로 하며, 시각은 보험증권 발행지의 표준시를 따릅니다. ② 회사가 계약자로부터 계약의 청약과 함께 보험료 상당액의 전부 또는 일부를 받은 경우에 그 청약을 승낙하기 전에 계약에서 정한 보험사고가 생긴 때에는 회사는 계약상의 책임을 집 니다. ③ 제2항의 규정에도 불구하고 회사는 다음중 한 가지에 해당되는 경우에는 책임을 지지 아니 합니다. 1. 제1항에서 정한 책임의 시기가 개시되지 아니한 경우 2. 제13조(계약전 알릴의무)의 규정에 의하여 계약자 또는 피보험자가 회사에 알린 내용 또는 건강진단 내용이 보험금 지급사유의 발생에 영향을 미쳤음을 회사가 증명하는 경우 3. 제15조(계약의 해지)의 규정을 준용하여 회사가 책임을 지지 아니할 수 있는 경우 ④ 제1항의 규정에도 불구하고 회사는 피보험자가 주거지를 출발하기 전과 주거지에 도착한 이후에 발생한 사고에 대하여는 보상하여 드리지 아니합니다. ⑤ 피보험자가 승객으로 탑승하는 항공기, 선박 등의 교통승용구가 보험기간 마지막 날의 오 후 4시까지 여행의 최종목적지에 도착하도록 예정되어 있음에도 불구하고 도착이 지연되었을' metadata={'source': 'sample1.pdf', 'type': 'sample1', 'timestamp': '2024-03-26T15:28:44.306138'}\n",
      "number of docs 39\n"
     ]
    }
   ],
   "source": [
    "# PDF에서 cid를 추출해서 ASCII 문자로 변환\n",
    "def text_pruner(text, current_pdf_file):\n",
    "    def replace_cid(match):\n",
    "        ascii_num = int(match.group(1))\n",
    "        try:\n",
    "            return chr(ascii_num)\n",
    "        except:\n",
    "            return ''  # 변환 실패 시 빈 문자열로 처리\n",
    "    cid_pattern = re.compile(r'\\(cid:(\\d+)\\)')\n",
    "    return re.sub(cid_pattern, replace_cid, text)\n",
    "\n",
    "# PDF 파일 처리 함수\n",
    "def process_pdf(pdf_file):\n",
    "    print(f\"Processing PDF file: {pdf_file}\")\n",
    "    docs = []\n",
    "    source_name = pdf_file.split('/')[-1]\n",
    "    type_name = source_name.split(' ')[-1].replace('.pdf', '')\n",
    "\n",
    "    with pdfplumber.open(pdf_file) as pdf:\n",
    "        # 페이지 단위 Chunking (단순화 된 방법)\n",
    "        for page_number, page in enumerate(pdf.pages, start=1):\n",
    "            page_text = page.extract_text()\n",
    "            if page_text:\n",
    "                pruned_text = text_pruner(page_text, pdf_file)\n",
    "            else:\n",
    "                pruned_text = \"\"\n",
    "            # 텍스트 길이가 20 이상인 경우에만 Documnet로 저장\n",
    "            if len(pruned_text) >= 20:  \n",
    "                doc = Document(\n",
    "                    page_content=pruned_text.replace('\\n', ' '),\n",
    "                    metadata={\n",
    "                        \"source\": source_name,\n",
    "                        \"type\": type_name,\n",
    "                        \"timestamp\": datetime.now().isoformat()\n",
    "                    }\n",
    "                )\n",
    "                docs.append(doc)\n",
    "    if docs:\n",
    "        load_document(docs)\n",
    "\n",
    "def load_document(docs):\n",
    "    # 동작방식을 확인하기 위해, 출력만 진행 (업데이트 예정)\n",
    "    print(\"sample doc: \", docs[0])\n",
    "    print(\"number of docs\", len(docs))    \n",
    "\n",
    "for pdf_file in pdf_list:\n",
    "    process_pdf(pdf_file)\n"
   ]
  },
  {
   "cell_type": "markdown",
   "id": "cd38a174-3245-4eb0-b7a0-bf2f1564fb6f",
   "metadata": {},
   "source": [
    "### OpenSearch를 지식 저장소로 활용\n",
    "\n",
    "이제 지식 저장소로 OpenSearch를 활용하기 위해, 각 Document들을 보관합니다."
   ]
  },
  {
   "cell_type": "markdown",
   "id": "668df38e-5af3-42a8-8e75-ec4ae8a971d2",
   "metadata": {},
   "source": [
    "#### OpenSearch 클라이언트 생성"
   ]
  },
  {
   "cell_type": "code",
   "execution_count": 28,
   "id": "4aaa2950-f3f2-447b-9ecd-9a02a09e6764",
   "metadata": {},
   "outputs": [],
   "source": [
    "from opensearchpy import OpenSearch, RequestsHttpConnection"
   ]
  },
  {
   "cell_type": "code",
   "execution_count": 25,
   "id": "b516318b-ffd2-490e-8c78-28b2a43a9f57",
   "metadata": {},
   "outputs": [],
   "source": [
    "http_auth = (opensearch_user_id, opensearch_user_password)\n",
    "os_client = OpenSearch(\n",
    "            hosts=[\n",
    "                {'host': opensearch_domain_endpoint.replace(\"https://\", \"\"),\n",
    "                 'port': 443\n",
    "                }\n",
    "            ],\n",
    "            http_auth=http_auth, \n",
    "            use_ssl=True,\n",
    "            verify_certs=True,\n",
    "            connection_class=RequestsHttpConnection\n",
    "        )"
   ]
  },
  {
   "cell_type": "markdown",
   "id": "7fd96e4e-dd65-4119-a214-8d294bf464aa",
   "metadata": {},
   "source": [
    "#### OpenSearch에 `sample_pdf` 인덱스 생성"
   ]
  },
  {
   "cell_type": "code",
   "execution_count": 27,
   "id": "f8d5bd97-b293-4680-868e-bedc711e83eb",
   "metadata": {},
   "outputs": [
    {
     "name": "stdout",
     "output_type": "stream",
     "text": [
      "Existing index has been deleted. Create new one.\n"
     ]
    },
    {
     "data": {
      "text/plain": [
       "{'acknowledged': True, 'shards_acknowledged': True, 'index': 'sample_pdf'}"
      ]
     },
     "execution_count": 27,
     "metadata": {},
     "output_type": "execute_result"
    }
   ],
   "source": [
    "with open('index_template.json', 'r') as f:\n",
    "    index_body = json.load(f)\n",
    "\n",
    "index_name = \"sample_pdf\"\n",
    "exists = os_client.indices.exists(index_name)\n",
    "\n",
    "if exists:\n",
    "    os_client.indices.delete(index=index_name)\n",
    "    print(\"Existing index has been deleted. Create new one.\")\n",
    "else:\n",
    "    print(\"Index does not exist, Create one.\")\n",
    "\n",
    "os_client.indices.create(index_name, body=index_body)"
   ]
  },
  {
   "cell_type": "code",
   "execution_count": 33,
   "id": "bf0792fc-9fca-432e-82d1-11211a4cd5d6",
   "metadata": {},
   "outputs": [],
   "source": [
    "from botocore.config import Config"
   ]
  },
  {
   "cell_type": "code",
   "execution_count": 34,
   "id": "71317e72-7c6a-4e5a-af90-284ba19c7a55",
   "metadata": {},
   "outputs": [],
   "source": [
    "region_name = 'us-east-1'\n",
    "retry_config = Config(\n",
    "        region_name=region_name,\n",
    "        retries={\n",
    "            \"max_attempts\": 10,\n",
    "            \"mode\": \"standard\",\n",
    "        },\n",
    "    )\n",
    "boto3_bedrock = boto3.client(\"bedrock-runtime\", region_name=region_name, config=retry_config)"
   ]
  },
  {
   "cell_type": "markdown",
   "id": "c8ea018c-2934-42fa-a074-dbcc54bbbbce",
   "metadata": {},
   "source": [
    "#### 벡터 임베딩 및 OpenSearch 벡터 저장/검색을 위한 클래스 생성\n",
    "\n",
    "검색증강생성(RAG)의 자연어 기반 챗봇이 가능한 핵심 원리 중 하나는 벡터임베딩을 활용한 텍스트의 저장 및 검색입니다.\n",
    "\n",
    "1. 자연어 텍스트를 벡터임베딩으로 변환해주는 Bedrock Embedding 모델을 정의하고,\n",
    "2. OpenSearch에서 제공하는 벡터 저장/검색을 위한 클래스(`OpenSearchVectorSearch`)를 생성합니다."
   ]
  },
  {
   "cell_type": "code",
   "execution_count": 35,
   "id": "214584ba-1004-4d6f-938d-2b3a55739710",
   "metadata": {},
   "outputs": [],
   "source": [
    "from langchain.embeddings import BedrockEmbeddings\n",
    "from langchain_community.vectorstores import OpenSearchVectorSearch"
   ]
  },
  {
   "cell_type": "code",
   "execution_count": 39,
   "id": "3eb3a15c-6deb-473e-a535-9d35a0fe5a08",
   "metadata": {},
   "outputs": [
    {
     "name": "stdout",
     "output_type": "stream",
     "text": [
      "Bedrock Embeddings Model Loaded\n",
      "OpenSearch Vector DB Client Created\n"
     ]
    }
   ],
   "source": [
    "llmemb = BedrockEmbeddings(\n",
    "    client=boto3_bedrock,\n",
    "    model_id=\"amazon.titan-embed-g1-text-02\"\n",
    ")\n",
    "dimension = 1536\n",
    "print(\"Bedrock Embeddings Model Loaded\")\n",
    "\n",
    "vector_db = OpenSearchVectorSearch(\n",
    "    index_name=index_name,\n",
    "    opensearch_url=opensearch_domain_endpoint,\n",
    "    embedding_function=llmemb,\n",
    "    http_auth=http_auth,\n",
    ")\n",
    "print(\"OpenSearch Vector DB Client Created\")"
   ]
  },
  {
   "cell_type": "markdown",
   "id": "03de3cb9-2cf3-409a-aa76-61f3f519decc",
   "metadata": {},
   "source": [
    "#### 이제 문서 로드 함수 `load_document()`를 업데이트합니다\n",
    "\n",
    "앞에서는 동작방식을 확인하기 위해, 문서를 print로만 출력하고 종료했었습니다."
   ]
  },
  {
   "cell_type": "code",
   "execution_count": 44,
   "id": "235d8ac3-1f8b-4f1c-8f81-61e87bc45622",
   "metadata": {},
   "outputs": [
    {
     "name": "stdout",
     "output_type": "stream",
     "text": [
      "Processing PDF file: ./data/sample1.pdf\n"
     ]
    }
   ],
   "source": [
    "def load_document(docs):\n",
    "    vector_db.add_documents(docs)\n",
    "\n",
    "for pdf_file in pdf_list:\n",
    "    process_pdf(pdf_file)"
   ]
  },
  {
   "cell_type": "markdown",
   "id": "6ddbc3a7-230b-4bc4-b0be-296b834739f2",
   "metadata": {},
   "source": [
    "실행이 끝난 후에 OpenSearch에서 `sample_pdf` 인덱스를 조회해보면, 텍스트와 이 텍스트의 문맥적 의미를 담는 벡터가 함께 저장된 것이 확인됩니다.\n",
    "\n",
    "(아래 내용은 참고만 하셔도 됩니다)\n",
    "\n",
    "<img src=\"./image/uploader-1.png\">"
   ]
  },
  {
   "cell_type": "markdown",
   "id": "5322f3fb-f8cb-491c-b9a7-d86f6618dfd4",
   "metadata": {},
   "source": [
    "### 파일 업로더를 Streamlit 애플리케이션에 통합\n",
    "\n",
    "이제 Streamlit에서 업로드 된 파일이 자동으로 OpenSearch의 벡터 저장소에 보관되도록 처리하겠습니다."
   ]
  },
  {
   "cell_type": "code",
   "execution_count": 114,
   "id": "3055f727-b94a-4a44-9534-e78262bd9dcd",
   "metadata": {},
   "outputs": [
    {
     "name": "stdout",
     "output_type": "stream",
     "text": [
      "Overwriting uploader.py\n"
     ]
    }
   ],
   "source": [
    "%%writefile uploader.py\n",
    "import os\n",
    "import boto3\n",
    "import re\n",
    "import json\n",
    "import pdfplumber\n",
    "from datetime import datetime\n",
    "from opensearchpy import OpenSearch, RequestsHttpConnection\n",
    "from botocore.config import Config\n",
    "from langchain_core.documents import Document\n",
    "from langchain_community.embeddings import BedrockEmbeddings\n",
    "from langchain_community.vectorstores import OpenSearchVectorSearch\n",
    "\n",
    "opensearch_user_id = '{opensearch_user_id}'\n",
    "opensearch_user_password = '{opensearch_user_password}'\n",
    "domain_name = '{domain_name}'\n",
    "opensearch_domain_endpoint = '{opensearch_domain_endpoint}'\n",
    "index_name = 'sample_pdf'\n",
    "region_name = 'us-east-1'\n",
    "\n",
    "\n",
    "def setup_opensearch_client():\n",
    "    http_auth = (opensearch_user_id, opensearch_user_password)\n",
    "    os_client = OpenSearch(\n",
    "                hosts=[{{'host': opensearch_domain_endpoint.replace(\"https://\", \"\"), 'port': 443}}],\n",
    "                http_auth=http_auth, \n",
    "                use_ssl=True,\n",
    "                verify_certs=True,\n",
    "                connection_class=RequestsHttpConnection\n",
    "            )\n",
    "    return os_client\n",
    "    \n",
    "os_client = setup_opensearch_client()\n",
    "\n",
    "retry_config = Config(\n",
    "    region_name=region_name,\n",
    "    retries={{\n",
    "        \"max_attempts\": 10,\n",
    "        \"mode\": \"standard\",\n",
    "    }},\n",
    ")\n",
    "boto3_bedrock = boto3.client(\"bedrock-runtime\", region_name=region_name, config=retry_config)\n",
    "\n",
    "llmemb = BedrockEmbeddings(\n",
    "    client=boto3_bedrock,\n",
    "    model_id=\"amazon.titan-embed-g1-text-02\"\n",
    ")\n",
    "\n",
    "http_auth = (opensearch_user_id, opensearch_user_password)\n",
    "vector_db = OpenSearchVectorSearch(\n",
    "    index_name=index_name,\n",
    "    opensearch_url=opensearch_domain_endpoint,\n",
    "    embedding_function=llmemb,\n",
    "    http_auth=http_auth,\n",
    ")\n",
    "\n",
    "# PDF에서 cid를 추출해서 ASCII 문자로 변환하는 함수\n",
    "def text_pruner(text, current_pdf_file):\n",
    "    def replace_cid(match):\n",
    "        ascii_num = int(match.group(1))\n",
    "        try:\n",
    "            return chr(ascii_num)\n",
    "        except:\n",
    "            return ''  # 변환 실패 시 빈 문자열로 처리\n",
    "    cid_pattern = re.compile(r'\\(cid:(\\d+)\\)')\n",
    "    return re.sub(cid_pattern, replace_cid, text)\n",
    "\n",
    "# PDF 파일 처리 함수\n",
    "def process_pdf(pdf_file):\n",
    "    docs = []\n",
    "    source_name = pdf_file.name\n",
    "    type_name = source_name.split(' ')[-1].replace('.pdf', '')\n",
    "\n",
    "    with pdfplumber.open(pdf_file) as pdf:\n",
    "        for page_number, page in enumerate(pdf.pages, start=1):\n",
    "            page_text = page.extract_text()\n",
    "            if page_text:\n",
    "                pruned_text = text_pruner(page_text, pdf_file)\n",
    "            else:\n",
    "                pruned_text = \"\"\n",
    "            if len(pruned_text) >= 20:  \n",
    "                doc = Document(\n",
    "                    page_content=pruned_text.replace('\\n', ' '),\n",
    "                    metadata={{\n",
    "                        \"source\": source_name,\n",
    "                        \"type\": type_name,\n",
    "                        \"timestamp\": datetime.now().isoformat()\n",
    "                    }}\n",
    "                )\n",
    "                docs.append(doc)\n",
    "    if docs:\n",
    "        load_document(docs)\n",
    "\n",
    "def load_document(docs):\n",
    "    vector_db.add_documents(docs)\n",
    "    print(\"Done\")\n",
    "\n",
    "\n",
    "# 인덱스 생성 및 관리\n",
    "def manage_index(os_client):\n",
    "    with open('index_template.json', 'r') as f:\n",
    "        index_body = json.load(f)\n",
    "        \n",
    "    exists = os_client.indices.exists(index_name)\n",
    "    if exists:\n",
    "        os_client.indices.delete(index=index_name)\n",
    "    else:\n",
    "        os_client.indices.create(index_name, body=index_body)\n",
    "\n",
    "def upload_and_process_file(uploaded_file):\n",
    "    try:\n",
    "        print(\"File uploaded:\", uploaded_file.name)\n",
    "        manage_index(os_client)\n",
    "        process_pdf(uploaded_file)\n",
    "        return True\n",
    "    except Exception as e:\n",
    "        print(f\"Error processing file: {{e}}\")\n",
    "        return False\n",
    "    "
   ]
  },
  {
   "cell_type": "code",
   "execution_count": 115,
   "id": "d885507b-2b24-49fa-8509-d7800b7e083c",
   "metadata": {},
   "outputs": [],
   "source": [
    "file_path = 'uploader.py'  \n",
    "with open(file_path, 'r') as file:\n",
    "    content = file.read()\n",
    "\n",
    "content = content.format(\n",
    "    opensearch_user_id=opensearch_user_id,\n",
    "    opensearch_user_password=opensearch_user_password,\n",
    "    domain_name=domain_name,\n",
    "    opensearch_domain_endpoint=opensearch_domain_endpoint\n",
    ")\n",
    "\n",
    "with open(file_path, 'w') as file:\n",
    "    file.write(content)"
   ]
  },
  {
   "cell_type": "code",
   "execution_count": 116,
   "id": "6f3ae7cd-32bb-4f68-81ed-d29a1ae04335",
   "metadata": {},
   "outputs": [
    {
     "name": "stdout",
     "output_type": "stream",
     "text": [
      "Overwriting demo-app.py\n"
     ]
    }
   ],
   "source": [
    "%%writefile demo-app.py\n",
    "from basic import get_conversation\n",
    "import streamlit as st\n",
    "from uploader import upload_and_process_file  # 추가된 부분\n",
    "\n",
    "uploaded_file = st.file_uploader(\"파일을 업로드하세요\", type=[\"pdf\"])\n",
    "prompt = st.text_input(\"프롬프트를 입력하세요.\")\n",
    "search_type = st.radio(\"Search Type\", [\"Basic\", \"Basic-RAG\", \"Hybrid-RAG\", \"Advanced-RAG\"])\n",
    "\n",
    "chat_box = st.empty()\n",
    "\n",
    "if 'conversation' not in st.session_state or 'stream_handler' not in st.session_state:\n",
    "    st.session_state.conversation, st.session_state.stream_handler = get_conversation(chat_box)\n",
    "\n",
    "def search_documents(search_type: str, prompt: str):\n",
    "    if search_type == \"Basic\":\n",
    "        st.session_state.stream_handler.reset_accumulated_text()\n",
    "        st.session_state.conversation.predict(input=prompt)\n",
    "    elif search_type == \"Basic-RAG\":\n",
    "        st.write(f\"문서 기본 검색: {prompt}\")\n",
    "    elif search_type == \"Hybrid-RAG\":\n",
    "        st.write(f\"하이브리드 검색: {prompt}\")\n",
    "    elif search_type == \"Advanced-RAG\":\n",
    "        st.write(f\"고급 검색: {prompt}\")\n",
    "\n",
    "if st.button(\"검색\"):\n",
    "    search_documents(search_type, prompt)\n",
    "\n",
    "if uploaded_file is not None:\n",
    "    print(\"File uploaded:\", uploaded_file.name)\n",
    "    upload_and_process_file(uploaded_file)\n",
    "else:\n",
    "    print(\"No file uploaded.\")\n",
    "\n",
    "if uploaded_file is not None:\n",
    "    res = upload_and_process_file(uploaded_file)\n",
    "    if res:\n",
    "        st.success(\"파일이 성공적으로 처리됐습니다.\")\n",
    "    else:\n",
    "        st.error(\"파일 처리 중 오류가 발생했습니다.\")"
   ]
  },
  {
   "cell_type": "markdown",
   "id": "a4bebd07-858c-4838-a7b7-ac9c17eac695",
   "metadata": {},
   "source": [
    "#### 이제 Streamlit 애플리케이션에서 파일을 업로드 했을 때 아래와 같이 표시됩니다\n",
    "\n",
    "<img src=\"./image/uploader-2.png\" width=\"800\">"
   ]
  }
 ],
 "metadata": {
  "kernelspec": {
   "display_name": "Python 3 (ipykernel)",
   "language": "python",
   "name": "python3"
  },
  "language_info": {
   "codemirror_mode": {
    "name": "ipython",
    "version": 3
   },
   "file_extension": ".py",
   "mimetype": "text/x-python",
   "name": "python",
   "nbconvert_exporter": "python",
   "pygments_lexer": "ipython3",
   "version": "3.10.13"
  }
 },
 "nbformat": 4,
 "nbformat_minor": 5
}
