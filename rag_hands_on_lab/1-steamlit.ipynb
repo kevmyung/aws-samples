{
 "cells": [
  {
   "cell_type": "markdown",
   "id": "6c5c801d-a5e7-41d5-8e1c-14bc0a62e635",
   "metadata": {},
   "source": [
    "# Streamlit 애플리케이션 기초 코드 작성 (5분 미만 소요)"
   ]
  },
  {
   "cell_type": "markdown",
   "id": "b1d5a88a-abc8-48f4-972b-62104aac8c45",
   "metadata": {},
   "source": [
    "### Streamlit으로 base code를 정의합니다"
   ]
  },
  {
   "cell_type": "code",
   "execution_count": 1,
   "id": "70dae776-136a-462a-a1a0-0cc74eac1495",
   "metadata": {},
   "outputs": [
    {
     "name": "stdout",
     "output_type": "stream",
     "text": [
      "Overwriting demo-app.py\n"
     ]
    }
   ],
   "source": [
    "%%writefile demo-app.py\n",
    "import streamlit as st\n",
    "\n",
    "uploaded_file = st.file_uploader(\"검색에 사용할 파일을 업로드하세요\", type=[\"pdf\", \"docx\", \"pptx\"], accept_multiple_files=False)\n",
    "prompt = st.text_input(\"프롬프트를 입력하세요.\")\n",
    "search_type = st.radio(\"Search Type\", [\"Basic\", \"Basic-RAG\", \"Hybrid-RAG\", \"Advanced-RAG\"])\n",
    "\n",
    "chat_box = st.empty()\n",
    "\n",
    "def search_documents(search_type: str, prompt: str, file):\n",
    "    if search_type == \"Basic\":\n",
    "        st.write(f\"기본 검색: {prompt}\")\n",
    "    elif search_type == \"Basic-RAG\":\n",
    "        st.write(f\"문서 기본 검색: {prompt}\")\n",
    "    elif search_type == \"Hybrid-RAG\":\n",
    "        st.write(f\"하이브리드 검색: {prompt}\")\n",
    "    elif search_type == \"Advanced-RAG\":\n",
    "        st.write(f\"고급 검색: {prompt}\")\n",
    "\n",
    "if st.button(\"검색\"):\n",
    "    search_documents(search_type, prompt, uploaded_file)"
   ]
  },
  {
   "cell_type": "markdown",
   "id": "07cd2e0f-ce26-44bc-b91e-23db3a2004ee",
   "metadata": {},
   "source": [
    "#### 리디렉션을 통한 파일 업로드 시, CORS 에러를 막기 위한 Streamlit 설정입니다"
   ]
  },
  {
   "cell_type": "code",
   "execution_count": 6,
   "id": "b23b2f30-f1ee-4922-91db-b8eb2afd570f",
   "metadata": {},
   "outputs": [],
   "source": [
    "!mkdir -p ~/.streamlit\n",
    "!echo \"[server]\\nenableXsrfProtection = false\\nenableCORS = false\" > ~/.streamlit/config.toml"
   ]
  },
  {
   "cell_type": "markdown",
   "id": "357d6a9c-ee5a-4f77-8e45-76290f15353d",
   "metadata": {},
   "source": [
    "#### Terminal에서 `demo-app.py` 파일 경로로 이동하여 아래 명령어를 실행\n",
    "`streamlit run demo-app.py --server.port 8505`\n",
    "\n",
    "위 명령어는 demo-app.py라는 Python 스크립트에 정의된 Streamlit 애플리케이션을 시작합니다. 해당 애플리케이션은 포트 번호 8505에서 서비스됩니다."
   ]
  },
  {
   "cell_type": "markdown",
   "id": "2feb43e9-956e-436e-a1e9-a285d33261ac",
   "metadata": {},
   "source": [
    "#### 현재 브라우저의 URL을 복사해서 아래 url 변수에 입력"
   ]
  },
  {
   "cell_type": "code",
   "execution_count": 2,
   "id": "d2c2989a-0b2c-4407-884f-ca35d5d93c48",
   "metadata": {},
   "outputs": [],
   "source": [
    "url = \"https://ooiphgixfurhjom.studio.us-east-1.sagemaker.aws/jupyterlab/default/lab/tree/aws-samples/rag_hands_on_lab/0-steamlit.ipynb\""
   ]
  },
  {
   "cell_type": "code",
   "execution_count": 3,
   "id": "095b224b-d5af-47fc-8f00-0f511dd58a44",
   "metadata": {},
   "outputs": [
    {
     "name": "stdout",
     "output_type": "stream",
     "text": [
      "https://ooiphgixfurhjom.studio.us-east-1.sagemaker.aws/jupyterlab/default/proxy/8505/demo-app\n"
     ]
    }
   ],
   "source": [
    "base_url = url.split(\"default/\")[0]\n",
    "new_url = base_url + \"default/proxy/8505/demo-app\"\n",
    "\n",
    "print(new_url)"
   ]
  },
  {
   "cell_type": "markdown",
   "id": "14ed2d89-82b2-436e-a11a-30fad8f451e7",
   "metadata": {},
   "source": [
    "#### 위 URL을 클릭하면 Streamlit 애플리케이션에 접근할 수 있습니다.\n",
    "\n",
    "하지만, 현재는 챗봇의 UI만 존재할 뿐, 아무런 기능도 제공하지 않습니다.\n",
    "\n",
    "#### 챗봇의 기본 기능을 정의하기 위해 `1-basic.ipynb` 노트북으로 이동합니다.\n",
    "\n",
    "Streamlit을 실행한 터미널은 실행 중인 상태를 유지합니다."
   ]
  }
 ],
 "metadata": {
  "kernelspec": {
   "display_name": "Python 3 (ipykernel)",
   "language": "python",
   "name": "python3"
  },
  "language_info": {
   "codemirror_mode": {
    "name": "ipython",
    "version": 3
   },
   "file_extension": ".py",
   "mimetype": "text/x-python",
   "name": "python",
   "nbconvert_exporter": "python",
   "pygments_lexer": "ipython3",
   "version": "3.10.13"
  }
 },
 "nbformat": 4,
 "nbformat_minor": 5
}
