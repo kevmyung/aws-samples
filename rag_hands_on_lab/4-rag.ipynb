{
 "cells": [
  {
   "cell_type": "markdown",
   "id": "9c6dd31e-6e16-48ec-a142-8d5a0a21c4c4",
   "metadata": {},
   "source": [
    "# 검색증강생성(RAG)을 활용한 챗봇 구현"
   ]
  },
  {
   "cell_type": "markdown",
   "id": "cb417f65-198e-4c97-89c8-36909a1ad917",
   "metadata": {},
   "source": [
    "#### 앞 부분은 이전 실습 과정에서 했던 내용과 동일합니다\n"
   ]
  },
  {
   "cell_type": "code",
   "execution_count": 1,
   "id": "dec5f683-dba0-418a-ab41-cd09ca79d73a",
   "metadata": {},
   "outputs": [],
   "source": [
    "import boto3\n",
    "%store -r opensearch_user_id opensearch_user_password domain_name opensearch_domain_endpoint\n",
    "\n",
    "try:\n",
    "    opensearch_user_id\n",
    "    opensearch_user_password\n",
    "    domain_name\n",
    "    opensearch_domain_endpoint\n",
    "   \n",
    "except NameError:\n",
    "    print(\"++++++++++++++++++++++++++++++++++++++++++++++++++++++++++++++++++++++++++++\")\n",
    "    print(\"[ERROR] Run 00_setup notebook first or Create Your Own OpenSearch Domain\")\n",
    "    print(\"++++++++++++++++++++++++++++++++++++++++++++++++++++++++++++++++++++++++++++\")"
   ]
  },
  {
   "cell_type": "code",
   "execution_count": 2,
   "id": "3a2719d6-3325-47fb-b561-c208397f46ac",
   "metadata": {},
   "outputs": [],
   "source": [
    "%load_ext autoreload\n",
    "%autoreload 2"
   ]
  },
  {
   "cell_type": "markdown",
   "id": "8d911cfb-4034-44d2-9d56-aa304f1b44a9",
   "metadata": {},
   "source": [
    "### Bedrock 설정 (이전 실습과 동일)"
   ]
  },
  {
   "cell_type": "code",
   "execution_count": 3,
   "id": "2e3b8fca-8246-452d-8798-3f9f23b5989b",
   "metadata": {},
   "outputs": [],
   "source": [
    "from botocore.config import Config\n",
    "from langchain_community.chat_models import BedrockChat\n",
    "from langchain.callbacks.streaming_stdout import StreamingStdOutCallbackHandler"
   ]
  },
  {
   "cell_type": "code",
   "execution_count": 4,
   "id": "ca460ae1-3e5e-4a89-aa78-6584dc271dbb",
   "metadata": {},
   "outputs": [
    {
     "data": {
      "text/plain": [
       "BedrockChat(client=<botocore.client.BedrockRuntime object at 0x7f617e0d4970>, model_id='anthropic.claude-3-sonnet-20240229-v1:0', model_kwargs={'max_tokens': 1024, 'stop_sequences': ['\\n\\nHuman']}, streaming=True, callbacks=[<langchain_core.callbacks.streaming_stdout.StreamingStdOutCallbackHandler object at 0x7f617e07b550>])"
      ]
     },
     "execution_count": 4,
     "metadata": {},
     "output_type": "execute_result"
    }
   ],
   "source": [
    "region_name = 'us-east-1'\n",
    "retry_config = Config(\n",
    "        region_name=region_name,\n",
    "        retries={\n",
    "            \"max_attempts\": 10,\n",
    "            \"mode\": \"standard\",\n",
    "        },\n",
    "    )\n",
    "boto3_bedrock = boto3.client(\"bedrock-runtime\", region_name=region_name, config=retry_config)\n",
    "\n",
    "llmchat = BedrockChat(\n",
    "    model_id=\"anthropic.claude-3-sonnet-20240229-v1:0\",\n",
    "    client=boto3_bedrock,\n",
    "    streaming=True,\n",
    "    callbacks=[StreamingStdOutCallbackHandler()],\n",
    "    model_kwargs={\n",
    "        \"max_tokens\": 1024,\n",
    "        \"stop_sequences\": [\"\\n\\nHuman\"]\n",
    "    }\n",
    ")\n",
    "llmchat"
   ]
  },
  {
   "cell_type": "code",
   "execution_count": 11,
   "id": "f1ec51dc-e750-4110-94dd-c15c83729d15",
   "metadata": {},
   "outputs": [],
   "source": [
    "from langchain.embeddings import BedrockEmbeddings"
   ]
  },
  {
   "cell_type": "code",
   "execution_count": 12,
   "id": "0a2dcaed-6d80-4b01-82d6-3bd741268b09",
   "metadata": {},
   "outputs": [
    {
     "name": "stdout",
     "output_type": "stream",
     "text": [
      "Bedrock Embeddings Model Loaded\n"
     ]
    }
   ],
   "source": [
    "llmemb = BedrockEmbeddings(\n",
    "    client=boto3_bedrock,\n",
    "    model_id=\"amazon.titan-embed-g1-text-02\"\n",
    ")\n",
    "dimension = 1536\n",
    "print(\"Bedrock Embeddings Model Loaded\")"
   ]
  },
  {
   "cell_type": "markdown",
   "id": "73ed68f7-5316-4489-b750-827d27e988e4",
   "metadata": {},
   "source": [
    "### OpenSearch 설정 (이전 실습과 동일)"
   ]
  },
  {
   "cell_type": "code",
   "execution_count": 5,
   "id": "9dbde28d-b41a-4be8-8f12-95bc573a406a",
   "metadata": {},
   "outputs": [],
   "source": [
    "from utils.rag import qa_chain\n",
    "from utils.rag import prompt_repo, show_context_used\n",
    "from utils.rag import retriever_utils, OpenSearchHybridSearchRetriever\n",
    "from opensearchpy import OpenSearch, RequestsHttpConnection"
   ]
  },
  {
   "cell_type": "code",
   "execution_count": 8,
   "id": "50f6f1f4-7c11-444b-baa9-e61b7c27309a",
   "metadata": {},
   "outputs": [],
   "source": [
    "http_auth = (opensearch_user_id, opensearch_user_password)\n",
    "os_client = OpenSearch(\n",
    "        hosts=[\n",
    "            {'host': opensearch_domain_endpoint.replace(\"https://\", \"\"),\n",
    "             'port': 443\n",
    "            }\n",
    "        ],\n",
    "        http_auth=http_auth, \n",
    "        use_ssl=True,\n",
    "        verify_certs=True,\n",
    "        connection_class=RequestsHttpConnection\n",
    "    )"
   ]
  },
  {
   "cell_type": "markdown",
   "id": "b8664871-7c99-4788-841e-4d993bb34dd5",
   "metadata": {},
   "source": [
    "### 검색어에 대한 정보획득을 위한 OpenSearch Retriever 클래스 생성\n",
    "\n",
    "정보획득 구현방식에 여러 파라미터를 적용하기 위한 클래스로, 세부 동작방식은 `utils/rag.py`에 정의되어 있습니다"
   ]
  },
  {
   "cell_type": "code",
   "execution_count": 17,
   "id": "165905a3-fd42-4552-85e3-a866b989cc23",
   "metadata": {},
   "outputs": [],
   "source": [
    "index_name = \"sample_pdf\"\n",
    "opensearch_hybrid_retriever = OpenSearchHybridSearchRetriever(\n",
    "    os_client=os_client,\n",
    "    index_name=index_name,\n",
    "    llm_text=llmchat, \n",
    "    llm_emb=llmemb,\n",
    "\n",
    "    # option for lexical\n",
    "    minimum_should_match=0,\n",
    "    filter=[],\n",
    "\n",
    "    # option for search\n",
    "    fusion_algorithm=\"RRF\", # [\"RRF\", \"simple_weighted\"], rank fusion 방식 정의\n",
    "    ensemble_weights=[1.0, 0.0], # [for semantic, for lexical], Semantic, Lexical search 결과에 대한 최종 반영 비율 정의\n",
    "    reranker=False, \n",
    "    parent_document = False, # enable parent document\n",
    "    \n",
    "    # option for async search\n",
    "    async_mode=True,\n",
    "\n",
    "    # option for output\n",
    "    k=5, # 최종 Document 수 정의\n",
    "    verbose=False,\n",
    ")"
   ]
  },
  {
   "cell_type": "code",
   "execution_count": 23,
   "id": "17d2581f-1acd-4dfc-b41a-da8ad2b36141",
   "metadata": {},
   "outputs": [
    {
     "name": "stdout",
     "output_type": "stream",
     "text": [
      "\n",
      "                        You are a master answer bot designed to answer user's questions.\n",
      "                        I'm going to give you contexts which consist of texts, tables and images.\n",
      "                        Read the contexts carefully, because I'm going to ask you a question about it.\n",
      "                        \n"
     ]
    }
   ],
   "source": [
    "system_prompt = prompt_repo.get_system_prompt()\n",
    "# 기본 프롬프트 템플릿을 불러와서 활용\n",
    "print(system_prompt)"
   ]
  },
  {
   "cell_type": "code",
   "execution_count": 19,
   "id": "7100b1f5-9576-4d14-b7eb-50b8bb7eefa0",
   "metadata": {},
   "outputs": [],
   "source": [
    "qa = qa_chain(\n",
    "    llm_text=llmchat,\n",
    "    retriever=opensearch_hybrid_retriever,\n",
    "    system_prompt=system_prompt,\n",
    "    return_context=True,\n",
    "    verbose=False\n",
    ")\n"
   ]
  },
  {
   "cell_type": "code",
   "execution_count": 26,
   "id": "dfc18ded-4125-401c-9a25-7f8782b61c91",
   "metadata": {},
   "outputs": [
    {
     "name": "stdout",
     "output_type": "stream",
     "text": [
      "제2조(비용의 범위)에서 회사가 보상하는 비용의 범위는 다음과 같습니다.\n",
      "\n",
      "1. 수색구조비용: 조난당한 피보험자를 수색, 구조 또는 이송하는 활동에 필요한 비용\n",
      "2. 항공운임등 교통비: 피보험자의 수색, 간호 또는 사고처리를 위한 구원자의 현지 왕복 교통비 (2명분 한도)\n",
      "3. 숙박비: 구원자의 현지 숙박비 (2명분, 1명당 14일분 한도) \n",
      "4. 이송비용: 피보험자 유해 또는 치료중인 피보험자 이송 비용\n",
      "5. 제잡비: 구원자의 출입국 절차 비용, 현지 교통비, 통신비, 유해처리비 등\n",
      "\n",
      "\n",
      "==============아래는 위 답변에 사용된 컨텍스트입니다==============\n",
      "\n",
      "\n",
      "-----------------------------------------------\n",
      "1. Chunk: 539 Characters\n",
      "-----------------------------------------------\n",
      "10만원을 한도로 합니다. 제3조(보상하지 아니하는 손해) 회사는 보통약관 제7조(보상하지 아니하는 손해) 제1항 제1호 내지 제3호, 제7호 내지 제12호의 사유로 인하여 생긴\n",
      "손해는 보상하여 드리지 아니합니다. 제4조(보험금의 지급) 회사는 제2조(비용의 범위)의 비용중 정당하다고 인정된 부분에 대해서 만 보상하여 드리며, 계약자, 피보험자 또는\n",
      "보험수익자가 타인으로부터 손해배상을 받을 수 있는 경우에는 그 금액을 지급하지 아니합니다. 제5조(보험금의 분담) 제1조(보상하는 손해)의 비용에 대하여 보험금을 지급할 다수의\n",
      "계약이 체결되어 있는 경우에는 각각의 계약에 대하여 다른 계약이 없는 것으로 하여 산출한 보상책 임액의 합계액이 그 비용을 초과했을 때 회사는 이 계약에 따른 보상책임액의 위의\n",
      "합계액에 대한 비율에 따라 보험금을 지급하여 드립니다. 제6조(보상한도액) 회사가 이 특별약관에 관하여 지급할 보험금은 보험기간을 통하여 이 특별 약관의 보험가입금액을 한도로\n",
      "합니다. 제7조(준용규정) 이 특별약관에 정하지 아니한 사항은 보통약관을 따릅니다.\n",
      "metadata:\n",
      " {'source': 'sample1.pdf', 'type': 'sample1', 'timestamp': '2024-03-27T01:00:44.908296', 'id':\n",
      "'28982770-9bbc-437b-902c-9c0922b1e233'}\n",
      "\n",
      "-----------------------------------------------\n",
      "2. Chunk: 1320 Characters\n",
      "-----------------------------------------------\n",
      "특별비용담보 특별약관 제1조(보상하는 손해) ① 회사는 아래의 사유로 계약자, 피보험자 또는 피보험자의 법정상속 인이 부담하는 비용을 이 특별약관에 따라 보상하여 드립니다. 1.\n",
      "보통약관 제6조(보상하는 손해)의 여행도중(이하「여행도중」이라 합니다)에 피보험자 가 탑승한 항공기 또는 선박이 행방불명 또는 조난된 경우 또는 산악등반 중에 조난된 경 우 2.\n",
      "여행도중에 급격하고도 우연한 외래의 사고에 따라 긴급수색구조등이 필요한 상태로 된 것이 경찰등의 공공기관에 의하여 확인된 경우 3. 보통약관 제6조(보상하는 손해)의 상해를\n",
      "직접원인으로 하여 사고일로부터 1년이내에 사망한 경우 또는 14일이상 계속 입원한 경우(다른 의료기관으로 이전한 경우에는 이전에 소요된 기간을 입원중으로 봅니다. 다만, 그 이전에\n",
      "대하여는 치료를 위하여 의사가 필요 하다고 인정한 경우에 한합니다. 이하 같습니다.) 4. 질병을 직접 원인으로 하여 여행도중에 사망한 경우 또는 여행도중에 걸린 질병을 직접\n",
      "원인으로 하여 14일이상 계속 입원한 경우. 다만, 입원에 대하여는 여행도중에 의사가 치 료를 개시한 질병으로 인하여 입원에 한합니다. ② 제1항 제1호의 산악등반 중 피보험자의\n",
      "조난이 확실치 않은 경우에는 피보험자의 하산 예 정일이후 계약자 또는 피보험자의 법정상속인이나 이들을 대신한 사람이 경찰서 등의 공공기 관, 조난구조대, 해난구조회사 또는\n",
      "항공회사에 수색을 의뢰한 것을 조난이 발생한 것으로 봅 니다. 제2조(비용의 범위) ① 회사가 보상하는 비용의 범위는 아래와 같습니다. 1. 수색구조비용 조난당한 피보험자를 수색,\n",
      "구조 또는 이송(이하「수색」이라 합니다)하는 활동에 필요 한 비용중 이들의 활동에 종사한 사람으로부터의 청구에 의하여 지급한 비용을 말합니 다. 2. 항공운임등 교통비 피보험자의\n",
      "수색, 간호 또는 사고처리를 위하여 사고발생지 또는 피보험자의 법정상속 인(그 대리인을 포함합니다. 이하「구원자」라 합니다)의 현지 왕복교통비를 말하며 2 명분을 한도로 합니다.\n",
      "3. 숙박비 현지에서의 구원자의 숙박비를 말하여 구원자 2명분을 한도로 하여 1명당 14일분을 한 도로 합니다. 4. 이송비용 피보험자가 사망한 경우 그 유해를 현지로부터\n",
      "보험증권에 기재된 피보험자의 주소지에 이송하는데 필요한 비용 및 치료를 계속중인 피보험자를 보험증권에 기재된 피보험자의 주소지에 이송하는데 드는 비용으로서 통상액을 넘는 피보험자의\n",
      "운임 및 수행하는 의 사, 간호사의 호송비를 말합니다. 5. 제잡비 구원자의 출입국 절차에 필요한 비용(여권인지대, 사증료, 예방접종료 등) 및 구원자 또는 피보험자가 현지에서\n",
      "지출한 교통비, 통신비, 피보험자 유해처리비 등을 말하고\n",
      "metadata:\n",
      " {'source': 'sample1.pdf', 'type': 'sample1', 'timestamp': '2024-03-27T01:00:44.831867', 'id':\n",
      "'3c6789c9-2ec4-4391-ab8e-163310f09a5b'}\n",
      "\n",
      "-----------------------------------------------\n",
      "3. Chunk: 327 Characters\n",
      "-----------------------------------------------\n",
      "제3조(보상하지 아니하는 손해) 회사는 그 원인의 직접 간접을 묻지 아니하고 보통약관 제7조 (보상하지 아니하는 손해)의 제1항 및 제2항의 사유로 생긴 손해는 보상하여 드리지\n",
      "아니합니 다. 제4조(준용규정) 이 특별약관에 정하지 아니한 사항은 보통약관을 따릅니다. ① 자기부담금설정 추가특별약관 제1조(보험금의 지급) 회사는 특별약관 제2조(보상하는\n",
      "손해) 제1항의 규정에도 불구하고 회 사가 지급하는 보험금은 1사고마다 피보험자가 실제로 지급한 비용중 ( )만원을 초과하는 금액으로 합니다. 제2조(준용규정) 이 추가특별약관에\n",
      "정하지 아니한 사항은 보통약관 및 특별약관을 따릅니다.\n",
      "metadata:\n",
      " {'source': 'sample1.pdf', 'type': 'sample1', 'timestamp': '2024-03-27T01:00:45.249164', 'id':\n",
      "'f2722a00-e238-4b34-a41f-2b589778e06d'}\n",
      "\n",
      "-----------------------------------------------\n",
      "4. Chunk: 908 Characters\n",
      "-----------------------------------------------\n",
      "질병의료비 담보 특별약관 제1조(보상하는 손해) ① 회사는 피보험자가 보통약관 제6조(보상하는 손해)의 여행도중에 발 생한 질병으로 인하여 보험기간중 또는 보험기간 만료후 30일\n",
      "이내에 의사의 치료를 받기 시 작했을 때 보통약관 제10조(의료비보험금)의 제1항의 비용을 이 특별약관에 따라 피보험자가 실제로 지급한 비용을 보상하여 드립니다. 다만, 의사의\n",
      "치료를 받기 시작한 날로부터 180일 을 한도로 합니다. ② 제1항의 비용은 1질병에 대하여 질병의료비 보험가입금액을 한도로 합니다. ③ 제1항의 비용에 대하여 보험금을 지급할\n",
      "다수의 계약이 체결되어 있는 경우에는 각각의 계 약에 대하여 다른 계약이 없는 것으로 하여 산출한 보상책임액의 합계액이 제1항의 비용을 초 과했을 때 회사는 이 계약에 따른\n",
      "보상책임액의 위의 합계액에 대한 비율에 따라 질병치료 보 험금을 지급합니다. 제2조(보상하지 아니하는 손해) 회사는 그 원인의 직접 간접을 묻지 아니하고 보통약관 제7조 (보상하지\n",
      "아니하는 손해)의 제1항의 제1호 내지 제3호, 제7호 내지 제12호 및 아래의 사유로 생긴 손해는 보상하여 드리지 아니합니다. 1. 회사가 보통약관에 따라 보험금을 지급할 상해에\n",
      "기인하는 질병 2. 임신, 출산, 유산. 그러나 질병에 기인하는 경우에는 보상하여 드립니다. 3. 치아보철 등의 치과치료 비용. 그러나 질병은 보상하여 드립니다. 제3조(준용규정)\n",
      "이 특별약관에 정하지 아니한 사항은 보통약관을 따릅니다. ① 자기부담금설정 추가특별약관 제1조(보험금의 지급) 회사는 특별약관 제1조(보상하는 손해) 제1항의 규정에도 불구하고 회\n",
      "사가 지급하는 보험금은 1사고마다 피보험자가 실제로 지급한 비용중 ( )만원을 초과하는 금액으로 합니다. 제2조(준용규정) 이 추가특별약관에 정하지 아니한 사항은 보통약관 및\n",
      "특별약관을 따릅니다.\n",
      "metadata:\n",
      " {'source': 'sample1.pdf', 'type': 'sample1', 'timestamp': '2024-03-27T01:00:43.302257', 'id':\n",
      "'6f013c57-cf16-446f-934f-577c32355dce'}\n",
      "\n",
      "-----------------------------------------------\n",
      "5. Chunk: 882 Characters\n",
      "-----------------------------------------------\n",
      "보험료정산 추가특별약관 제1조(보험료의 정산) ① 회사는 단체계약 특별약관(이하“특별약관”이라 합니다) 제3조(피 보험자의 증가,감소 또는 교체) 제2항에도 불구하고 이\n",
      "추가특별약관에 따라 보험료를 정산합 니다. ② 회사는 특별약관 제3조(피보험자의 증가,감소 또는 교체) 제3항에도 불구하고 보험료가 정 산되기 이전일지라도 새로이 증가 또는 교체된\n",
      "피보험자에 대해 생긴 손해를 보상하여 드립니 다. 제2조(보험가입금액) 특별약관 제2조(보험가입금액)에도 불구하고 제2종 및 제3종 단체의 경 우에도 계약자가 피보험자의\n",
      "보험가입금액을 각기 달리하여 가입하고자 할 경우에 회사는 계 약사항을 고려하여 이를 승인할 수 있습니다. 제3조(피보험자의 명부) 계약자는 항상 피보험자 명부를 비치하여 회사가\n",
      "열람을 요구할 경우 에는 이에 따라야 합니다. 제4조(예치보험료) 예치보험료는 계약체결일 이전 1월 동안 1일 평균인원수에 정해진 보험요 율을 적용하여 계산합니다. 제5조(보험료의\n",
      "정산방법) 보험료는 피보험자수의 증감을 기초로 하여 다음과 같이 정산합니 다. 1. 계약자는 매월 10일까지 전월말까지의 피보험자수에 관한 서류를 회사에 제출하여야 합 니다.\n",
      "그러나 계약이 효력상실 또는 해지된 경우에는 효력상실 또는 해지일까지의 보험료 를 확정하기 위하여 필요한 서류를 효력상실 또는 해지 즉시 회사에 제출하여야 합니다. 2. 회사는\n",
      "보험기간중이나 보험기간 만료후 보험료를 산출하기 위하여 필요하다고 인정될 경우에는 계약자의 서류를 열람할 수 있습니다. 3. 회사는 보험기간 만료와 동시에 피보험자수에 따라 산출된\n",
      "확정보험료와 계약체결시 산 출한 예치보험료를 비교하여 그 차액을 정산합니다. 제6조(준용규정) 이 추가특별약관에 정하지 아니한 사항은 보통약관 및 특별약관을 따릅니다.\n",
      "metadata:\n",
      " {'source': 'sample1.pdf', 'type': 'sample1', 'timestamp': '2024-03-27T01:00:45.835787', 'id':\n",
      "'80316e97-1691-4788-8b1e-e97185573cb6'}\n"
     ]
    }
   ],
   "source": [
    "query = \"특별비용담보 특별약관에서 회사가 보상하는 비용의 범위는?\"\n",
    "\n",
    "response, contexts = qa.invoke(\n",
    "    query = query\n",
    ")\n",
    "\n",
    "print(\"\\n\\n\\n==============아래는 위 답변에 사용된 컨텍스트입니다==============\\n\")\n",
    "show_context_used(contexts)"
   ]
  }
 ],
 "metadata": {
  "kernelspec": {
   "display_name": "Python 3 (ipykernel)",
   "language": "python",
   "name": "python3"
  },
  "language_info": {
   "codemirror_mode": {
    "name": "ipython",
    "version": 3
   },
   "file_extension": ".py",
   "mimetype": "text/x-python",
   "name": "python",
   "nbconvert_exporter": "python",
   "pygments_lexer": "ipython3",
   "version": "3.10.13"
  }
 },
 "nbformat": 4,
 "nbformat_minor": 5
}
